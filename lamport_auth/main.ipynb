{
 "cells": [
  {
   "cell_type": "code",
   "execution_count": 1,
   "id": "7ba804c4b515cae7",
   "metadata": {},
   "outputs": [],
   "source": [
    "from typing import Callable\n",
    "import hashlib"
   ]
  },
  {
   "cell_type": "code",
   "execution_count": 2,
   "id": "29089fa19ab0ab1a",
   "metadata": {},
   "outputs": [],
   "source": [
    "class Super:\n",
    "    def __init__(self, name: str, H: Callable[[str], str]):\n",
    "        self.name = name\n",
    "        self.__H = H\n",
    "    \n",
    "    def H(self, s: str, n: int = 1) -> str:\n",
    "        for _ in range(n):\n",
    "            s = self.__H(s)\n",
    "        return s\n",
    "    \n",
    "    def display(self, s: str) -> None:\n",
    "        print(f\"{self.name}{s}\")"
   ]
  },
  {
   "cell_type": "markdown",
   "id": "653648e72e789972",
   "metadata": {},
   "source": [
    "**Загальновідома геш-функція:**\n",
    "\n",
    "Наприклад, SHA-1."
   ]
  },
  {
   "cell_type": "code",
   "execution_count": 3,
   "id": "efa3696f3c53671e",
   "metadata": {},
   "outputs": [],
   "source": [
    "def hash_f(s: str) -> str:\n",
    "    return hashlib.sha1(s.encode()).hexdigest()"
   ]
  },
  {
   "cell_type": "markdown",
   "id": "63e2c23d0e8382a8",
   "metadata": {},
   "source": [
    "**Відправник:**"
   ]
  },
  {
   "cell_type": "code",
   "execution_count": 4,
   "id": "initial_id",
   "metadata": {},
   "outputs": [],
   "source": [
    "class Sender(Super):\n",
    "    def __init__(self, name: str, H: Callable[[str], str]):\n",
    "        super().__init__(name, H)\n",
    "        self.__w = None\n",
    "        self.__t = None\n",
    "        self.__i = None\n",
    "    \n",
    "    def register(self, w: str, t: int):\n",
    "        self.__w = w\n",
    "        self.__t = t\n",
    "        self.__i = 1\n",
    "    \n",
    "    def send(self, channel: list[(str, int, str)], message: str):\n",
    "        if self.__w is None:\n",
    "            self.display(\": Помилка надсилання! Не було проведено початкової реєстрації.\")\n",
    "            return\n",
    "        if self.__i > self.__t - 1:\n",
    "            self.display(\": Помилка надсилання! Кінець послідовності гешування.\")\n",
    "            return\n",
    "        wi = self.H(self.__w, self.__t - self.__i)\n",
    "        channel.append((message, self.__i, wi))\n",
    "        self.display(f\" --> channel: (message='{message}', i={self.__i}, wi={wi})\")\n",
    "        self.__i += 1"
   ]
  },
  {
   "cell_type": "markdown",
   "id": "9fe3bef8bbb8354",
   "metadata": {},
   "source": [
    "**Отримувач:**"
   ]
  },
  {
   "cell_type": "code",
   "execution_count": 5,
   "id": "79c9a14915399f4b",
   "metadata": {},
   "outputs": [],
   "source": [
    "class Receiver(Super):\n",
    "    def __init__(self, name: str, H: Callable[[str], str]):\n",
    "        super().__init__(name, H)\n",
    "        self.__w0 = None\n",
    "        self.__ia = None\n",
    "    \n",
    "    def register(self, w0: str):\n",
    "        self.__w0 = w0\n",
    "        self.__ia = 1\n",
    "        \n",
    "    def receive(self, channel: list[(str, int, str)]):\n",
    "        if self.__w0 is None:\n",
    "            self.display(\": Помилка отримання! Не було проведено початкової реєстрації.\")\n",
    "            return\n",
    "        message, i, wi = channel.pop(0)\n",
    "        self.display(f\" <-- channel: (message='{message}', i={i}, wi={wi})\")\n",
    "        if self.__ia != i or self.H(wi) != self.__w0:\n",
    "            self.display(f\": Повідомлення '{message}' відхилено.\")\n",
    "            return\n",
    "        self.display(f\": Повідомлення '{message}' прийнято.\")\n",
    "        self.__w0 = wi\n",
    "        self.__ia += 1"
   ]
  },
  {
   "cell_type": "markdown",
   "id": "b7b738013f00b6e",
   "metadata": {},
   "source": [
    "**Третя довірча сторона:**"
   ]
  },
  {
   "cell_type": "code",
   "execution_count": 6,
   "id": "d3eadc529990242f",
   "metadata": {},
   "outputs": [],
   "source": [
    "class Trusted(Super):\n",
    "    def __init__(self, p: str, t: int, name: str, H: Callable[[str], str]):\n",
    "        super().__init__(name, H)\n",
    "        self.__p = p\n",
    "        self.__t = t\n",
    "    \n",
    "    def register(self, sender: Sender, receiver: Receiver):\n",
    "        sender.register(self.__p, self.__t)\n",
    "        self.display(f\" --> {sender.name}: p='{self.__p}', t={self.__t}\")\n",
    "        w0 = self.H(self.__p, self.__t)\n",
    "        receiver.register(w0)\n",
    "        self.display(f\" --> {receiver.name}: w0={w0}\")"
   ]
  },
  {
   "cell_type": "markdown",
   "id": "55e0c312a78e08ba",
   "metadata": {},
   "source": [
    "**Відкритий канал:**"
   ]
  },
  {
   "cell_type": "code",
   "execution_count": 7,
   "id": "631c7e681f580c14",
   "metadata": {},
   "outputs": [],
   "source": [
    "open_channel = []"
   ]
  },
  {
   "cell_type": "markdown",
   "id": "592c8f73205a377d",
   "metadata": {},
   "source": [
    "**Опис можливого процесу комунікації:**"
   ]
  },
  {
   "cell_type": "code",
   "execution_count": 8,
   "id": "9d9b69663df04fdc",
   "metadata": {},
   "outputs": [],
   "source": [
    "t = Trusted(\"secret password\", 10, 'T', hash_f)\n",
    "a = Sender('A', hash_f)\n",
    "b = Receiver('B', hash_f)"
   ]
  },
  {
   "cell_type": "markdown",
   "id": "da55a0a0b4042751",
   "metadata": {},
   "source": [
    "Етап початкової реєстрації А та B з використанням третьої довірчої сторони Т:"
   ]
  },
  {
   "cell_type": "code",
   "execution_count": 9,
   "id": "c2eb4eb884d73463",
   "metadata": {},
   "outputs": [
    {
     "name": "stdout",
     "output_type": "stream",
     "text": [
      "T --> A: p='secret password', t=10\n",
      "T --> B: w0=f44bbc497bfffa9aaa37a985e0f718e492cea5ba\n"
     ]
    }
   ],
   "source": [
    "t.register(a, b)"
   ]
  },
  {
   "cell_type": "markdown",
   "id": "395566e5cbab2faa",
   "metadata": {},
   "source": [
    "А надсилає повідомлення \"Привіт, B\" у відкритий канал:"
   ]
  },
  {
   "cell_type": "code",
   "execution_count": 10,
   "id": "1404175325d65b81",
   "metadata": {},
   "outputs": [
    {
     "name": "stdout",
     "output_type": "stream",
     "text": [
      "A --> channel: (message='Привіт, B', i=1, wi=92dac6e4da9348cdfc678e3bdc603d6ec2e8f362)\n"
     ]
    }
   ],
   "source": [
    "a.send(open_channel, \"Привіт, B\")"
   ]
  },
  {
   "cell_type": "markdown",
   "id": "5ae0fbb9c576cc49",
   "metadata": {},
   "source": [
    "B читає повідомлення із відкритого каналу та виконує його автентифікацію: "
   ]
  },
  {
   "cell_type": "code",
   "execution_count": 11,
   "id": "8108d51cda0c9089",
   "metadata": {},
   "outputs": [
    {
     "name": "stdout",
     "output_type": "stream",
     "text": [
      "B <-- channel: (message='Привіт, B', i=1, wi=92dac6e4da9348cdfc678e3bdc603d6ec2e8f362)\n",
      "B: Повідомлення 'Привіт, B' прийнято.\n"
     ]
    }
   ],
   "source": [
    "b.receive(open_channel)"
   ]
  },
  {
   "cell_type": "markdown",
   "id": "13d85a77f5f15932",
   "metadata": {},
   "source": [
    "А надсилає друге повідомлення \"B, яка у тебе погода?\":"
   ]
  },
  {
   "cell_type": "code",
   "execution_count": 12,
   "id": "1edb600d36d363c9",
   "metadata": {},
   "outputs": [
    {
     "name": "stdout",
     "output_type": "stream",
     "text": [
      "A --> channel: (message='B, яка у тебе погода?', i=2, wi=10033290799863736bf75a434ef24bdc43251317)\n"
     ]
    }
   ],
   "source": [
    "a.send(open_channel, \"B, яка у тебе погода?\")"
   ]
  },
  {
   "cell_type": "markdown",
   "id": "82501a05e60e148e",
   "metadata": {},
   "source": [
    "B читає друге повідомлення та виконує його автентифікацію: "
   ]
  },
  {
   "cell_type": "code",
   "execution_count": 13,
   "id": "de767d49a21356c2",
   "metadata": {},
   "outputs": [
    {
     "name": "stdout",
     "output_type": "stream",
     "text": [
      "B <-- channel: (message='B, яка у тебе погода?', i=2, wi=10033290799863736bf75a434ef24bdc43251317)\n",
      "B: Повідомлення 'B, яка у тебе погода?' прийнято.\n"
     ]
    }
   ],
   "source": [
    "b.receive(open_channel)"
   ]
  },
  {
   "cell_type": "markdown",
   "id": "a6a4ed67fa13598a",
   "metadata": {},
   "source": [
    "Зловмисник С намагається підробити наступне повідомлення А до B використовуючи індекс та геш з попереднього повідомлення:"
   ]
  },
  {
   "cell_type": "code",
   "execution_count": 14,
   "id": "b91855ebdb93257b",
   "metadata": {},
   "outputs": [
    {
     "name": "stdout",
     "output_type": "stream",
     "text": [
      "C --> channel: (message='У мене от дощ весь день.', i=3, wi=10033290799863736bf75a434ef24bdc43251317)\n"
     ]
    }
   ],
   "source": [
    "message = \"У мене от дощ весь день.\"\n",
    "i = 3\n",
    "wi = \"10033290799863736bf75a434ef24bdc43251317\"\n",
    "open_channel.append((message, i, wi))\n",
    "print(f\"C --> channel: (message='{message}', i={i}, wi={wi})\")"
   ]
  },
  {
   "cell_type": "markdown",
   "id": "fa90f8bebeb32636",
   "metadata": {},
   "source": [
    "B читає третє повідомлення та виконує його автентифікацію:"
   ]
  },
  {
   "cell_type": "code",
   "execution_count": 15,
   "id": "eef96919a9a57101",
   "metadata": {},
   "outputs": [
    {
     "name": "stdout",
     "output_type": "stream",
     "text": [
      "B <-- channel: (message='У мене от дощ весь день.', i=3, wi=10033290799863736bf75a434ef24bdc43251317)\n",
      "B: Повідомлення 'У мене от дощ весь день.' відхилено.\n"
     ]
    }
   ],
   "source": [
    "b.receive(open_channel)"
   ]
  },
  {
   "cell_type": "markdown",
   "id": "87d27588e697f863",
   "metadata": {},
   "source": [
    "А надсилає наступне повідомлення до B:"
   ]
  },
  {
   "cell_type": "code",
   "execution_count": 16,
   "id": "5d10d31c25231486",
   "metadata": {},
   "outputs": [
    {
     "name": "stdout",
     "output_type": "stream",
     "text": [
      "A --> channel: (message='У мене, наприклад, сонячно.', i=3, wi=a1a506fe9d030c73173415722a1af85890fdcdda)\n"
     ]
    }
   ],
   "source": [
    "a.send(open_channel, \"У мене, наприклад, сонячно.\")"
   ]
  },
  {
   "cell_type": "markdown",
   "id": "216129f399e51a12",
   "metadata": {},
   "source": [
    "B читає повідомлення та виконує його автентифікацію:"
   ]
  },
  {
   "cell_type": "code",
   "execution_count": 17,
   "id": "4d57ef9d90f3c2e",
   "metadata": {},
   "outputs": [
    {
     "name": "stdout",
     "output_type": "stream",
     "text": [
      "B <-- channel: (message='У мене, наприклад, сонячно.', i=3, wi=a1a506fe9d030c73173415722a1af85890fdcdda)\n",
      "B: Повідомлення 'У мене, наприклад, сонячно.' прийнято.\n"
     ]
    }
   ],
   "source": [
    "b.receive(open_channel)"
   ]
  }
 ],
 "metadata": {
  "kernelspec": {
   "display_name": "Python 3 (ipykernel)",
   "language": "python",
   "name": "python3"
  },
  "language_info": {
   "codemirror_mode": {
    "name": "ipython",
    "version": 3
   },
   "file_extension": ".py",
   "mimetype": "text/x-python",
   "name": "python",
   "nbconvert_exporter": "python",
   "pygments_lexer": "ipython3",
   "version": "3.9.13"
  }
 },
 "nbformat": 4,
 "nbformat_minor": 5
}
